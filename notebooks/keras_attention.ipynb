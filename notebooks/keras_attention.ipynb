{
 "cells": [
  {
   "cell_type": "code",
   "execution_count": 2,
   "metadata": {},
   "outputs": [],
   "source": [
    "from keras.datasets import imdb\n",
    "from keras import backend as K\n",
    "from keras.layers import Layer\n",
    "from keras.models import Sequential, Model\n",
    "from keras.layers import LSTM, GRU, Dense, Embedding, Concatenate\n",
    "from keras import optimizers\n",
    "import pandas as pd\n",
    "import re\n",
    "import matplotlib.pyplot as plt"
   ]
  },
  {
   "cell_type": "code",
   "execution_count": 3,
   "metadata": {},
   "outputs": [],
   "source": [
    "MAX_LEN = 100\n",
    "BATCH_SIZE = 256\n",
    "EMBEDDING_SIZE = 32\n",
    "MIN_FREQ = 3\n",
    "PAD_TOKEN = \"*$*PAD*$*\"\n",
    "UNK_TOKEN = \"*$*UNK*$*\"\n",
    "\n",
    "VAL_DICT = {'pos': 1,\n",
    "            'neg': 0}"
   ]
  },
  {
   "cell_type": "code",
   "execution_count": 6,
   "metadata": {},
   "outputs": [],
   "source": [
    "\n",
    "\n",
    "def clean_en(text, lower=True):\n",
    "    \"\"\"\n",
    "    Tokenization/string cleaning.\n",
    "    Original taken from https://github.com/yoonkim/CNN_sentence/blob/master/process_data.py\n",
    "    :param text: The string to be cleaned\n",
    "    :param lower: If True text is converted to lower case\n",
    "    :return: The clean string\n",
    "    \"\"\"\n",
    "    text = re.sub(r\"[^A-Za-z0-9(),!?\\'\\`]\", \" \", text)\n",
    "    text = re.sub(r\"\\'s\", \" \\'s\", text)\n",
    "    text = re.sub(r\"\\'ve\", \" \\'ve\", text)\n",
    "    text = re.sub(r\"n\\'t\", \" n\\'t\", text)\n",
    "    text = re.sub(r\"\\'re\", \" \\'re\", text)\n",
    "    text = re.sub(r\"\\'d\", \" \\'d\", text)\n",
    "    text = re.sub(r\"\\'ll\", \" \\'ll\", text)\n",
    "    text = re.sub(r\",\", \" , \", text)\n",
    "    text = re.sub(r\"!\", \" ! \", text)\n",
    "    text = re.sub(r\"\\(\", \" \\( \", text)\n",
    "    text = re.sub(r\"\\)\", \" \\) \", text)\n",
    "    text = re.sub(r\"\\?\", \" \\? \", text)\n",
    "    text = re.sub(r\"\\s{2,}\", \" \", text)\n",
    "    return text.strip().lower().encode('utf-8') if lower else text.strip().encode('utf-8')\n",
    "\n",
    "\n",
    "def create_data(df, w2i, pad_tnk=PAD_TOKEN, unk_tkn=UNK_TOKEN,\n",
    "                max_len=100):\n",
    "    X = []\n",
    "    y = []\n",
    "    for i in range(len(df)):\n",
    "        text = get_indexed_text(w2i, pad_text(df.iloc[i].tokenized_text, maxlen=max_len, pad_tkn=pad_tnk),\n",
    "                                unk_token=unk_tkn)\n",
    "        label = VAL_DICT[df.iloc[i].label]\n",
    "        X.append(text)\n",
    "        y.append(label)\n",
    "\n",
    "    return X,y\n",
    "\n",
    "\n",
    "def create_freq_vocabulary(tokenized_texts):\n",
    "    \"\"\"\n",
    "    :param tokenized_texts: a list of lists of tokens\n",
    "    :return: a word-to-integer dictionary with the value representing the frequency of the word in data\n",
    "    \"\"\"\n",
    "    token_dict = {}\n",
    "    for text in tokenized_texts:\n",
    "        for token in text:\n",
    "            try:\n",
    "                token_dict[token] += 1\n",
    "            except KeyError:\n",
    "                token_dict[token] = 1\n",
    "    return token_dict\n",
    "\n",
    "\n",
    "def get_frequent_words(token_dict, min_freq):\n",
    "    \"\"\"\n",
    "    :param token_dict: a word-to-integer dictionary with the value representing the frequency of the word in data\n",
    "    :param min_freq: the minimum frequency\n",
    "    :return: the list with tokens having frequency >= min_freq\n",
    "    \"\"\"\n",
    "    return [x for x in token_dict if token_dict[x] >= min_freq]\n",
    "\n",
    "\n",
    "def create_final_dictionary(tokenized_texts,\n",
    "                            min_freq,\n",
    "                            unk_token,\n",
    "                            pad_token):\n",
    "    voc = create_freq_vocabulary(tokenized_texts)\n",
    "    print(\"tokens found in training data set:\", len(voc))\n",
    "    freq_words = get_frequent_words(voc, min_freq)\n",
    "    print(\"tokens with frequency >= %d: %d\" % (min_freq, len(freq_words)))\n",
    "    words = [pad_token, unk_token] + freq_words\n",
    "    return {w: i for i, w in enumerate(words)}\n",
    "\n",
    "\n",
    "def get_indexed_value(w2i, word, unk_token):\n",
    "    \"\"\"\n",
    "    return the index of a token in a word-to-index dictionary\n",
    "    :param w2i: the word-to-index dictionary\n",
    "    :param word: the token\n",
    "    :param unk_token: to unknown token\n",
    "    :return: an integer\n",
    "    \"\"\"\n",
    "    try:\n",
    "        return w2i[word]\n",
    "    except KeyError:\n",
    "        return w2i[unk_token]\n",
    "\n",
    "\n",
    "def get_indexed_text(w2i, words, unk_token):\n",
    "    \"\"\"\n",
    "    return the indices of the all the tokens in a list in a word-to-index dictionary\n",
    "    :param w2i: the word-to-index dictionary\n",
    "    :param words: a list of tokens\n",
    "    :param unk_token: to unknown token\n",
    "    :return: a list of integers\n",
    "    \"\"\"\n",
    "    return [get_indexed_value(w2i, word, unk_token) for word in words]\n",
    "\n",
    "\n",
    "def pad_text(tokenized_text, maxlen, pad_tkn):\n",
    "    \"\"\"\n",
    "    fills a list of tokens with pad tokens if the length of the list is larger than maxlen\n",
    "    or return the maxlen last tokens of the list\n",
    "    :param tokenized_text: a list of tokens\n",
    "    :param maxlen: the max length\n",
    "    :param pad_tkn: the pad token\n",
    "    :return: a list of tokens\n",
    "    \"\"\"\n",
    "    if len(tokenized_text) < maxlen:\n",
    "        return [pad_tkn] * (maxlen - len(tokenized_text)) + tokenized_text\n",
    "    else:\n",
    "        return tokenized_text[len(tokenized_text) - maxlen:]\n",
    "\n",
    "\n",
    "def get_data_from_csv():\n",
    "    df = pd.read_csv(\"../data/imdb.csv\", encoding='iso-8859-1', error_bad_lines=False)\n",
    "    df_train = df[df.type == 'train']\n",
    "    df_test = df[df.type == 'test']\n",
    "    return df_train, df_test\n",
    "\n",
    "def generate_data(min_freq=MIN_FREQ,  max_len=MAX_LEN):\n",
    "    \"\"\"\n",
    "    generates all necessary components for training and evaluation \n",
    "    :param min_freq: how many times a word must be found in data in order tο not being considered as unknown\n",
    "    :param max_len: the padding size of text\n",
    "    :return: a dict\n",
    "    \"\"\"\n",
    "\n",
    "    train_df, test_df = get_data_from_csv()\n",
    "    print('reviews for training:', len(train_df))\n",
    "    print('reviews for testing:', len(test_df))\n",
    "    train_df['tokenized_text'] = train_df['review'].map(lambda x: clean_en(x, True).split())\n",
    "    test_df['tokenized_text'] = test_df['review'].map(lambda x: clean_en(x, True).split())\n",
    "    tokenized_texts = list(train_df.tokenized_text) + list(test_df.tokenized_text)\n",
    "    w2i = create_final_dictionary(tokenized_texts=tokenized_texts, min_freq=min_freq,\n",
    "                                  unk_token=UNK_TOKEN, pad_token=PAD_TOKEN,)\n",
    "    vocab_size = len(w2i)\n",
    "    train_batches = create_data(train_df, w2i, max_len=max_len)\n",
    "    test_batches = create_data(test_df, w2i, max_len=max_len)\n",
    "\n",
    "    return {'train': train_batches, 'test': test_batches, 'vocab_size': vocab_size}\n",
    "\n",
    "\n"
   ]
  },
  {
   "cell_type": "code",
   "execution_count": 7,
   "metadata": {},
   "outputs": [
    {
     "name": "stdout",
     "output_type": "stream",
     "text": [
      "reviews for training: 25000\n",
      "reviews for testing: 25000\n",
      "tokens found in training data set: 112540\n",
      "tokens with frequency >= 3: 53006\n"
     ]
    }
   ],
   "source": [
    "data = generate_data()"
   ]
  },
  {
   "cell_type": "code",
   "execution_count": 8,
   "metadata": {},
   "outputs": [],
   "source": [
    "train_X, train_y = data['train']\n",
    "test_X, test_y= data['test']\n",
    "vocab_size = data['vocab_size']"
   ]
  },
  {
   "cell_type": "code",
   "execution_count": 9,
   "metadata": {},
   "outputs": [],
   "source": [
    "def vanilla_model(unique_tokens, embedding_size, rnn_size, max_len):\n",
    "    model = Sequential()\n",
    "    model.add(Embedding(unique_tokens, embedding_size, input_length=max_len))\n",
    "    model.add(LSTM(rnn_size))\n",
    "    model.add(Dense(rnn_size, activation='relu'))\n",
    "    model.add(Dense(1, activation=None))\n",
    "    return model"
   ]
  },
  {
   "cell_type": "code",
   "execution_count": 10,
   "metadata": {},
   "outputs": [
    {
     "name": "stdout",
     "output_type": "stream",
     "text": [
      "WARNING:tensorflow:From /usr/local/lib/python3.5/dist-packages/tensorflow/python/framework/op_def_library.py:263: colocate_with (from tensorflow.python.framework.ops) is deprecated and will be removed in a future version.\n",
      "Instructions for updating:\n",
      "Colocations handled automatically by placer.\n",
      "WARNING:tensorflow:From /usr/local/lib/python3.5/dist-packages/keras/backend/tensorflow_backend.py:1188: calling reduce_sum_v1 (from tensorflow.python.ops.math_ops) with keep_dims is deprecated and will be removed in a future version.\n",
      "Instructions for updating:\n",
      "keep_dims is deprecated, use keepdims instead\n"
     ]
    }
   ],
   "source": [
    "model = vanilla_model(unique_tokens=vocab_size, embedding_size=EMBEDDING_SIZE, rnn_size=32, max_len=MAX_LEN)"
   ]
  },
  {
   "cell_type": "code",
   "execution_count": 11,
   "metadata": {},
   "outputs": [
    {
     "name": "stdout",
     "output_type": "stream",
     "text": [
      "_________________________________________________________________\n",
      "Layer (type)                 Output Shape              Param #   \n",
      "=================================================================\n",
      "embedding_1 (Embedding)      (None, 100, 32)           1696256   \n",
      "_________________________________________________________________\n",
      "lstm_1 (LSTM)                (None, 32)                8320      \n",
      "_________________________________________________________________\n",
      "dense_1 (Dense)              (None, 32)                1056      \n",
      "_________________________________________________________________\n",
      "dense_2 (Dense)              (None, 1)                 33        \n",
      "=================================================================\n",
      "Total params: 1,705,665\n",
      "Trainable params: 1,705,665\n",
      "Non-trainable params: 0\n",
      "_________________________________________________________________\n"
     ]
    }
   ],
   "source": [
    "model.summary()"
   ]
  },
  {
   "cell_type": "code",
   "execution_count": 12,
   "metadata": {},
   "outputs": [],
   "source": [
    "model.compile('adam', 'binary_crossentropy', metrics=['acc'])"
   ]
  },
  {
   "cell_type": "code",
   "execution_count": 13,
   "metadata": {},
   "outputs": [
    {
     "name": "stdout",
     "output_type": "stream",
     "text": [
      "WARNING:tensorflow:From /usr/local/lib/python3.5/dist-packages/tensorflow/python/ops/math_ops.py:3066: to_int32 (from tensorflow.python.ops.math_ops) is deprecated and will be removed in a future version.\n",
      "Instructions for updating:\n",
      "Use tf.cast instead.\n",
      "Train on 25000 samples, validate on 25000 samples\n",
      "Epoch 1/10\n",
      "25000/25000 [==============================] - 29s - loss: 0.9476 - acc: 0.5852 - val_loss: 0.5646 - val_acc: 0.6795\n",
      "Epoch 2/10\n",
      "25000/25000 [==============================] - 30s - loss: 0.5434 - acc: 0.7082 - val_loss: 0.4846 - val_acc: 0.7640\n",
      "Epoch 3/10\n",
      "25000/25000 [==============================] - 33s - loss: 0.3701 - acc: 0.7263 - val_loss: 0.6810 - val_acc: 0.6848\n",
      "Epoch 4/10\n",
      "25000/25000 [==============================] - 27s - loss: 0.2843 - acc: 0.7219 - val_loss: 0.9632 - val_acc: 0.6622\n",
      "Epoch 5/10\n",
      "25000/25000 [==============================] - 27s - loss: 0.2635 - acc: 0.7792 - val_loss: 0.6421 - val_acc: 0.6900\n",
      "Epoch 6/10\n",
      "25000/25000 [==============================] - 26s - loss: 0.3620 - acc: 0.6539 - val_loss: 0.8122 - val_acc: 0.5410\n",
      "Epoch 7/10\n",
      "25000/25000 [==============================] - 28s - loss: 0.3983 - acc: 0.7857 - val_loss: 0.9387 - val_acc: 0.6671\n",
      "Epoch 8/10\n",
      "25000/25000 [==============================] - 25s - loss: 0.6587 - acc: 0.6054 - val_loss: 0.6471 - val_acc: 0.6280\n",
      "Epoch 9/10\n",
      "25000/25000 [==============================] - 26s - loss: 0.4961 - acc: 0.7395 - val_loss: 0.7080 - val_acc: 0.5671\n",
      "Epoch 10/10\n",
      "25000/25000 [==============================] - 26s - loss: 0.5053 - acc: 0.7253 - val_loss: 0.6040 - val_acc: 0.6934\n"
     ]
    }
   ],
   "source": [
    "history = model.fit(epochs=10, x=train_X, y=train_y, validation_data=(test_X, test_y), batch_size=256, )"
   ]
  },
  {
   "cell_type": "code",
   "execution_count": 14,
   "metadata": {},
   "outputs": [
    {
     "data": {
      "text/plain": [
       "[<matplotlib.lines.Line2D at 0x7fd4cfbfb0b8>]"
      ]
     },
     "execution_count": 14,
     "metadata": {},
     "output_type": "execute_result"
    },
    {
     "data": {
      "image/png": "[encoded data removed]",
      "text/plain": [
       "<Figure size 432x288 with 1 Axes>"
      ]
     },
     "metadata": {},
     "output_type": "display_data"
    }
   ],
   "source": [
    "plt.plot(history.history['loss'])\n",
    "plt.plot(history.history['val_loss'])"
   ]
  },
  {
   "cell_type": "code",
   "execution_count": 15,
   "metadata": {},
   "outputs": [
    {
     "data": {
      "text/plain": [
       "[<matplotlib.lines.Line2D at 0x7fd4cfb677b8>]"
      ]
     },
     "execution_count": 15,
     "metadata": {},
     "output_type": "execute_result"
    },
    {
     "data": {
      "image/png": "[encoded data removed]",
      "text/plain": [
       "<Figure size 432x288 with 1 Axes>"
      ]
     },
     "metadata": {},
     "output_type": "display_data"
    }
   ],
   "source": [
    "plt.plot(history.history['acc'])\n",
    "plt.plot(history.history['val_acc'])"
   ]
  },
  {
   "cell_type": "code",
   "execution_count": 16,
   "metadata": {},
   "outputs": [],
   "source": [
    "class Attention(Layer):\n",
    "\n",
    "    def __init__(self, output_dim, **kwargs):\n",
    "        self.output_dim = output_dim\n",
    "        super(Attention, self).__init__(**kwargs)\n",
    "\n",
    "    def build(self, input_shape):\n",
    "        # Create a trainable weight variable for this layer.\n",
    "        self.kernel = self.add_weight(name='kernel', \n",
    "                                      shape=(input_shape[2], 1),\n",
    "                                      initializer='glorot_uniform',\n",
    "                                      trainable=True)\n",
    "        super(Attention, self).build(input_shape)  # Be sure to call this at the end\n",
    "\n",
    "    def call(self, x):\n",
    "        values = K.dot(x, self.kernel)\n",
    "#         values = values + self.bias #K.sum(values, self.bias)\n",
    "        weights = K.softmax(values)\n",
    "        weighted_states = x*weights\n",
    "        state = K.sum(weighted_states, axis=1)\n",
    "        return state\n",
    "\n",
    "    def compute_output_shape(self, input_shape):\n",
    "        return (input_shape[0], self.output_dim)\n"
   ]
  },
  {
   "cell_type": "code",
   "execution_count": 18,
   "metadata": {},
   "outputs": [],
   "source": [
    "class DeepAttention(Layer):\n",
    "\n",
    "    def __init__(self, output_dim, **kwargs):\n",
    "        self.output_dim = output_dim\n",
    "        super(DeepAttention, self).__init__(**kwargs)\n",
    "\n",
    "    def build(self, input_shape):\n",
    "        # Create a trainable weight variable for this layer.\n",
    "        self.kernel = self.add_weight(name='kernel', \n",
    "                                      shape=(input_shape[2], 1),\n",
    "                                      initializer='glorot_uniform',\n",
    "                                      trainable=True)\n",
    "        self.mlp_layers = {}\n",
    "        for i in range(self.num_of_layers):\n",
    "            pass\n",
    "            \n",
    "        super(DeepAttention, self).build(input_shape)  # Be sure to call this at the end\n",
    "\n",
    "    def call(self, x):\n",
    "#         x = K.permute_dimensions(x, pattern=(0,2,1))\n",
    "        values = K.dot(x, self.kernel)\n",
    "        print(values.shape)\n",
    "        weights = K.softmax(values)\n",
    "        print(weights.shape)\n",
    "        weighted_states = x*weights\n",
    "        print(weighted_states.shape)\n",
    "        state = K.sum(weighted_states, axis=1)\n",
    "        print(state.shape)\n",
    "        return state\n",
    "\n",
    "    def compute_output_shape(self, input_shape):\n",
    "        return (input_shape[0], self.output_dim)"
   ]
  },
  {
   "cell_type": "code",
   "execution_count": 19,
   "metadata": {},
   "outputs": [],
   "source": [
    "def attention_model(unique_tokens, embedding_size, rnn_size, max_len):\n",
    "    model = Sequential()\n",
    "    model.add(Embedding(unique_tokens, embedding_size, input_length=max_len))\n",
    "    model.add(LSTM(rnn_size, return_sequences=True))\n",
    "#     model.add(Concatenate(axis=1))\n",
    "    print(model.output_shape)\n",
    "    model.add(Attention(output_dim=rnn_size))\n",
    "    model.add(Dense(rnn_size, activation='relu'))\n",
    "    model.add(Dense(1, activation=None))\n",
    "    return model"
   ]
  },
  {
   "cell_type": "code",
   "execution_count": 20,
   "metadata": {},
   "outputs": [
    {
     "name": "stdout",
     "output_type": "stream",
     "text": [
      "(None, 100, 32)\n"
     ]
    }
   ],
   "source": [
    "att_model = attention_model(unique_tokens=vocab_size, embedding_size=EMBEDDING_SIZE, rnn_size=32, max_len=MAX_LEN)"
   ]
  },
  {
   "cell_type": "code",
   "execution_count": 21,
   "metadata": {},
   "outputs": [
    {
     "name": "stdout",
     "output_type": "stream",
     "text": [
      "_________________________________________________________________\n",
      "Layer (type)                 Output Shape              Param #   \n",
      "=================================================================\n",
      "embedding_2 (Embedding)      (None, 100, 32)           1696256   \n",
      "_________________________________________________________________\n",
      "lstm_2 (LSTM)                (None, 100, 32)           8320      \n",
      "_________________________________________________________________\n",
      "attention_1 (Attention)      (None, 32)                32        \n",
      "_________________________________________________________________\n",
      "dense_3 (Dense)              (None, 32)                1056      \n",
      "_________________________________________________________________\n",
      "dense_4 (Dense)              (None, 1)                 33        \n",
      "=================================================================\n",
      "Total params: 1,705,697\n",
      "Trainable params: 1,705,697\n",
      "Non-trainable params: 0\n",
      "_________________________________________________________________\n"
     ]
    }
   ],
   "source": [
    "att_model.summary()"
   ]
  },
  {
   "cell_type": "code",
   "execution_count": 22,
   "metadata": {},
   "outputs": [],
   "source": [
    "optimizer = optimizers.Adam(0.0001)\n",
    "\n",
    "att_model.compile(optimizer, 'binary_crossentropy', metrics=['acc'])"
   ]
  },
  {
   "cell_type": "code",
   "execution_count": 23,
   "metadata": {},
   "outputs": [
    {
     "name": "stdout",
     "output_type": "stream",
     "text": [
      "Train on 25000 samples, validate on 25000 samples\n",
      "Epoch 1/10\n",
      "25000/25000 [==============================] - 29s - loss: 0.7818 - acc: 0.5362 - val_loss: 0.6748 - val_acc: 0.5792\n",
      "Epoch 2/10\n",
      "25000/25000 [==============================] - 30s - loss: 0.6322 - acc: 0.6547 - val_loss: 0.6174 - val_acc: 0.6692\n",
      "Epoch 3/10\n",
      "25000/25000 [==============================] - 30s - loss: 0.5412 - acc: 0.7457 - val_loss: 0.5382 - val_acc: 0.7439\n",
      "Epoch 4/10\n",
      "25000/25000 [==============================] - 30s - loss: 0.4397 - acc: 0.8087 - val_loss: 0.4943 - val_acc: 0.7850\n",
      "Epoch 5/10\n",
      "25000/25000 [==============================] - 32s - loss: 0.3517 - acc: 0.8547 - val_loss: 0.4991 - val_acc: 0.8072\n",
      "Epoch 6/10\n",
      "25000/25000 [==============================] - 30s - loss: 0.2934 - acc: 0.8708 - val_loss: 0.5320 - val_acc: 0.8035\n",
      "Epoch 7/10\n",
      "25000/25000 [==============================] - 28s - loss: 0.2481 - acc: 0.8632 - val_loss: 0.6008 - val_acc: 0.7872\n",
      "Epoch 8/10\n",
      "25000/25000 [==============================] - 27s - loss: 0.2102 - acc: 0.8392 - val_loss: 0.7236 - val_acc: 0.7465\n",
      "Epoch 9/10\n",
      "25000/25000 [==============================] - 26s - loss: 0.1791 - acc: 0.8022 - val_loss: 0.7713 - val_acc: 0.7148\n",
      "Epoch 10/10\n",
      "25000/25000 [==============================] - 27s - loss: 0.1507 - acc: 0.7537 - val_loss: 0.8833 - val_acc: 0.6726\n"
     ]
    }
   ],
   "source": [
    "history = att_model.fit(epochs=10, x=train_X, y=train_y, validation_data=(test_X, test_y), batch_size=256, )"
   ]
  },
  {
   "cell_type": "code",
   "execution_count": 24,
   "metadata": {},
   "outputs": [
    {
     "data": {
      "text/plain": [
       "[<matplotlib.lines.Line2D at 0x7fd4c3095390>]"
      ]
     },
     "execution_count": 24,
     "metadata": {},
     "output_type": "execute_result"
    },
    {
     "data": {
      "image/png": "[encoded data removed]",
      "text/plain": [
       "<Figure size 432x288 with 1 Axes>"
      ]
     },
     "metadata": {},
     "output_type": "display_data"
    }
   ],
   "source": [
    "plt.plot(history.history['loss'])\n",
    "plt.plot(history.history['val_loss'])"
   ]
  },
  {
   "cell_type": "code",
   "execution_count": 25,
   "metadata": {},
   "outputs": [
    {
     "data": {
      "text/plain": [
       "[<matplotlib.lines.Line2D at 0x7fd4c3051ac8>]"
      ]
     },
     "execution_count": 25,
     "metadata": {},
     "output_type": "execute_result"
    },
    {
     "data": {
      "image/png": "[encoded data removed]",
      "text/plain": [
       "<Figure size 432x288 with 1 Axes>"
      ]
     },
     "metadata": {},
     "output_type": "display_data"
    }
   ],
   "source": [
    "plt.plot(history.history['acc'])\n",
    "plt.plot(history.history['val_acc'])"
   ]
  }
 ],
 "metadata": {
  "kernelspec": {
   "display_name": "Python 3",
   "language": "python",
   "name": "python3"
  },
  "language_info": {
   "codemirror_mode": {
    "name": "ipython",
    "version": 3
   },
   "file_extension": ".py",
   "mimetype": "text/x-python",
   "name": "python",
   "nbconvert_exporter": "python",
   "pygments_lexer": "ipython3",
   "version": "3.5.2"
  }
 },
 "nbformat": 4,
 "nbformat_minor": 2
}
